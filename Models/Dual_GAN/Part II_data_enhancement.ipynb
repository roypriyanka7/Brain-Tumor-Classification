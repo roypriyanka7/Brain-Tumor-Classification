{
 "cells": [
  {
   "cell_type": "code",
   "execution_count": 1,
   "id": "290d87d9",
   "metadata": {},
   "outputs": [
    {
     "name": "stdout",
     "output_type": "stream",
     "text": [
      "Retrieving notices: ...working... done\n",
      "Note: you may need to restart the kernel to use updated packages.\n",
      "\n",
      "Collecting package metadata (current_repodata.json): ...working... done\n",
      "Solving environment: ...working... done\n",
      "\n",
      "# All requested packages already installed.\n",
      "\n"
     ]
    },
    {
     "name": "stderr",
     "output_type": "stream",
     "text": [
      "\n",
      "\n",
      "==> WARNING: A newer version of conda exists. <==\n",
      "  current version: 23.7.3\n",
      "  latest version: 23.9.0\n",
      "\n",
      "Please update conda by running\n",
      "\n",
      "    $ conda update -n base -c defaults conda\n",
      "\n",
      "Or to minimize the number of packages updated during conda update use\n",
      "\n",
      "     conda install conda=23.9.0\n",
      "\n",
      "\n"
     ]
    }
   ],
   "source": [
    "conda install git"
   ]
  },
  {
   "cell_type": "code",
   "execution_count": 2,
   "id": "1991958a",
   "metadata": {},
   "outputs": [
    {
     "name": "stdout",
     "output_type": "stream",
     "text": [
      "Collecting git+https://github.com/sberbank-ai/Real-ESRGAN.gitNote: you may need to restart the kernel to use updated packages.\n",
      "\n",
      "  Cloning https://github.com/sberbank-ai/Real-ESRGAN.git to c:\\users\\priya\\appdata\\local\\temp\\pip-req-build-bfvn91sr\n",
      "  Resolved https://github.com/sberbank-ai/Real-ESRGAN.git to commit 362a0316878f41dbdfbb23657b450c3353de5acf\n",
      "  Preparing metadata (setup.py): started\n",
      "  Preparing metadata (setup.py): finished with status 'done'\n",
      "Requirement already satisfied: numpy in c:\\users\\priya\\anaconda3\\envs\\tensorflow\\lib\\site-packages (from RealESRGAN==1.0) (1.25.0)\n",
      "Requirement already satisfied: opencv-python in c:\\users\\priya\\anaconda3\\envs\\tensorflow\\lib\\site-packages (from RealESRGAN==1.0) (4.8.0.76)\n",
      "Requirement already satisfied: Pillow in c:\\users\\priya\\anaconda3\\envs\\tensorflow\\lib\\site-packages (from RealESRGAN==1.0) (10.0.0)\n",
      "Requirement already satisfied: torch>=1.7 in c:\\users\\priya\\anaconda3\\envs\\tensorflow\\lib\\site-packages (from RealESRGAN==1.0) (2.0.1)\n",
      "Requirement already satisfied: torchvision>=0.8.0 in c:\\users\\priya\\anaconda3\\envs\\tensorflow\\lib\\site-packages (from RealESRGAN==1.0) (0.15.2)\n",
      "Requirement already satisfied: tqdm in c:\\users\\priya\\anaconda3\\envs\\tensorflow\\lib\\site-packages (from RealESRGAN==1.0) (4.66.1)\n",
      "Requirement already satisfied: huggingface-hub in c:\\users\\priya\\anaconda3\\envs\\tensorflow\\lib\\site-packages (from RealESRGAN==1.0) (0.17.3)\n",
      "Requirement already satisfied: filelock in c:\\users\\priya\\anaconda3\\envs\\tensorflow\\lib\\site-packages (from torch>=1.7->RealESRGAN==1.0) (3.9.0)\n",
      "Requirement already satisfied: typing-extensions in c:\\users\\priya\\anaconda3\\envs\\tensorflow\\lib\\site-packages (from torch>=1.7->RealESRGAN==1.0) (4.7.1)\n",
      "Requirement already satisfied: sympy in c:\\users\\priya\\anaconda3\\envs\\tensorflow\\lib\\site-packages (from torch>=1.7->RealESRGAN==1.0) (1.11.1)\n",
      "Requirement already satisfied: networkx in c:\\users\\priya\\anaconda3\\envs\\tensorflow\\lib\\site-packages (from torch>=1.7->RealESRGAN==1.0) (3.1)\n",
      "Requirement already satisfied: jinja2 in c:\\users\\priya\\anaconda3\\envs\\tensorflow\\lib\\site-packages (from torch>=1.7->RealESRGAN==1.0) (3.1.2)\n",
      "Requirement already satisfied: requests in c:\\users\\priya\\anaconda3\\envs\\tensorflow\\lib\\site-packages (from torchvision>=0.8.0->RealESRGAN==1.0) (2.31.0)\n",
      "Requirement already satisfied: fsspec in c:\\users\\priya\\anaconda3\\envs\\tensorflow\\lib\\site-packages (from huggingface-hub->RealESRGAN==1.0) (2023.9.2)\n",
      "Requirement already satisfied: pyyaml>=5.1 in c:\\users\\priya\\anaconda3\\envs\\tensorflow\\lib\\site-packages (from huggingface-hub->RealESRGAN==1.0) (6.0.1)\n",
      "Requirement already satisfied: packaging>=20.9 in c:\\users\\priya\\anaconda3\\envs\\tensorflow\\lib\\site-packages (from huggingface-hub->RealESRGAN==1.0) (23.0)\n",
      "Requirement already satisfied: colorama in c:\\users\\priya\\anaconda3\\envs\\tensorflow\\lib\\site-packages (from tqdm->RealESRGAN==1.0) (0.4.6)\n",
      "Requirement already satisfied: MarkupSafe>=2.0 in c:\\users\\priya\\anaconda3\\envs\\tensorflow\\lib\\site-packages (from jinja2->torch>=1.7->RealESRGAN==1.0) (2.1.1)\n",
      "Requirement already satisfied: charset-normalizer<4,>=2 in c:\\users\\priya\\anaconda3\\envs\\tensorflow\\lib\\site-packages (from requests->torchvision>=0.8.0->RealESRGAN==1.0) (2.0.4)\n",
      "Requirement already satisfied: idna<4,>=2.5 in c:\\users\\priya\\anaconda3\\envs\\tensorflow\\lib\\site-packages (from requests->torchvision>=0.8.0->RealESRGAN==1.0) (3.4)\n",
      "Requirement already satisfied: urllib3<3,>=1.21.1 in c:\\users\\priya\\anaconda3\\envs\\tensorflow\\lib\\site-packages (from requests->torchvision>=0.8.0->RealESRGAN==1.0) (1.26.16)\n",
      "Requirement already satisfied: certifi>=2017.4.17 in c:\\users\\priya\\anaconda3\\envs\\tensorflow\\lib\\site-packages (from requests->torchvision>=0.8.0->RealESRGAN==1.0) (2023.7.22)\n",
      "Requirement already satisfied: mpmath>=0.19 in c:\\users\\priya\\anaconda3\\envs\\tensorflow\\lib\\site-packages (from sympy->torch>=1.7->RealESRGAN==1.0) (1.3.0)\n"
     ]
    },
    {
     "name": "stderr",
     "output_type": "stream",
     "text": [
      "  Running command git clone --filter=blob:none --quiet https://github.com/sberbank-ai/Real-ESRGAN.git 'C:\\Users\\Priya\\AppData\\Local\\Temp\\pip-req-build-bfvn91sr'\n"
     ]
    }
   ],
   "source": [
    "pip install git+https://github.com/sberbank-ai/Real-ESRGAN.git"
   ]
  },
  {
   "cell_type": "code",
   "execution_count": 3,
   "id": "3cd33100",
   "metadata": {},
   "outputs": [
    {
     "name": "stderr",
     "output_type": "stream",
     "text": [
      "C:\\Users\\Priya\\anaconda3\\envs\\Tensorflow\\lib\\site-packages\\tqdm\\auto.py:21: TqdmWarning: IProgress not found. Please update jupyter and ipywidgets. See https://ipywidgets.readthedocs.io/en/stable/user_install.html\n",
      "  from .autonotebook import tqdm as notebook_tqdm\n",
      "C:\\Users\\Priya\\anaconda3\\envs\\Tensorflow\\lib\\site-packages\\torch\\amp\\autocast_mode.py:204: UserWarning: User provided device_type of 'cuda', but CUDA is not available. Disabling\n",
      "  warnings.warn('User provided device_type of \\'cuda\\', but CUDA is not available. Disabling')\n"
     ]
    }
   ],
   "source": [
    "import os\n",
    "import torch\n",
    "\n",
    "from PIL import Image\n",
    "import numpy as np\n",
    "from RealESRGAN import RealESRGAN"
   ]
  },
  {
   "cell_type": "code",
   "execution_count": 4,
   "id": "08b5edd1",
   "metadata": {},
   "outputs": [],
   "source": [
    "# Input and output directories\n",
    "\n",
    "input_dir = 'gp_output_10k'\n",
    "output_dir = 'esr_output_10k'"
   ]
  },
  {
   "cell_type": "code",
   "execution_count": 5,
   "id": "9d08ba82",
   "metadata": {},
   "outputs": [],
   "source": [
    "# Ensuring the output directory exists, if not it creates the directory\n",
    "\n",
    "os.makedirs(output_dir, exist_ok=True)"
   ]
  },
  {
   "cell_type": "code",
   "execution_count": 6,
   "id": "40657d70",
   "metadata": {},
   "outputs": [],
   "source": [
    "# Checking if CUDA (GPU) is available\n",
    "\n",
    "device = torch.device('cuda' if torch.cuda.is_available() else 'cpu')\n",
    "\n",
    "\n",
    "# Initialize the RealESRGAN model with a scale factor\n",
    "\n",
    "model = RealESRGAN(device, scale = 4)\n",
    "model.load_weights('weights/RealESRGAN_x4.pth', download=True)"
   ]
  },
  {
   "cell_type": "code",
   "execution_count": null,
   "id": "ae09747a",
   "metadata": {},
   "outputs": [],
   "source": [
    "# Process all images in the input directory\n",
    "\n",
    "for filename in os.listdir(input_dir):\n",
    "    if filename.endswith(('.jpg', '.jpeg', '.png', '.bmp')):\n",
    "        # Load the image from the input directory\n",
    "        input_path = os.path.join(input_dir, filename)\n",
    "        image = Image.open(input_path).convert('RGB')\n",
    "\n",
    "        # Resize the image to 512x512 pixels\n",
    "        image = image.resize((512, 512), Image.BICUBIC)\n",
    "\n",
    "        # Super-resolution prediction\n",
    "        sr_image = model.predict(image)\n",
    "\n",
    "        # Save the super-resolved image in the output directory\n",
    "        output_path = os.path.join(output_dir, f'sr_{filename}')\n",
    "        sr_image.save(output_path, format='PNG')\n",
    "\n",
    "# Print a message when processing is complete\n",
    "print(f'Super-resolution of images in {input_dir} is complete. Results are saved in {output_dir}.')"
   ]
  },
  {
   "cell_type": "code",
   "execution_count": null,
   "id": "fa8a92fc",
   "metadata": {},
   "outputs": [],
   "source": []
  },
  {
   "cell_type": "markdown",
   "id": "0a9a7f41",
   "metadata": {},
   "source": [
    "### Citation:\n",
    "\n",
    "@InProceedings{wang2021realesrgan, </br>\n",
    " &nbsp;&nbsp;&nbsp;&nbsp;&nbsp;&nbsp;&nbsp;&nbsp;&nbsp;  author    = {Xintao Wang and Liangbin Xie and Chao Dong and Ying Shan}, </br>\n",
    " &nbsp;&nbsp;&nbsp;&nbsp;&nbsp;&nbsp;&nbsp;&nbsp;&nbsp;\n",
    " title     = {Real-ESRGAN: Training Real-World Blind Super-Resolution with Pure Synthetic Data}, </br>\n",
    "  &nbsp;&nbsp;&nbsp;&nbsp;&nbsp;&nbsp;&nbsp;&nbsp;&nbsp;\n",
    " booktitle = {International Conference on Computer Vision Workshops (ICCVW)}, </br>\n",
    "  &nbsp;&nbsp;&nbsp;&nbsp;&nbsp;&nbsp;&nbsp;&nbsp;&nbsp;\n",
    "  date      = {2021}\n",
    "}"
   ]
  },
  {
   "cell_type": "code",
   "execution_count": null,
   "id": "9241474d",
   "metadata": {},
   "outputs": [],
   "source": []
  },
  {
   "cell_type": "code",
   "execution_count": null,
   "id": "e2040c4b",
   "metadata": {},
   "outputs": [],
   "source": []
  },
  {
   "cell_type": "code",
   "execution_count": null,
   "id": "76f67a80",
   "metadata": {},
   "outputs": [],
   "source": []
  },
  {
   "cell_type": "code",
   "execution_count": null,
   "id": "e3ec8ed1",
   "metadata": {},
   "outputs": [],
   "source": []
  }
 ],
 "metadata": {
  "kernelspec": {
   "display_name": "Python 3 (ipykernel)",
   "language": "python",
   "name": "python3"
  },
  "language_info": {
   "codemirror_mode": {
    "name": "ipython",
    "version": 3
   },
   "file_extension": ".py",
   "mimetype": "text/x-python",
   "name": "python",
   "nbconvert_exporter": "python",
   "pygments_lexer": "ipython3",
   "version": "3.10.12"
  }
 },
 "nbformat": 4,
 "nbformat_minor": 5
}
